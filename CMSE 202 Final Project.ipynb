{
 "cells": [
  {
   "attachments": {},
   "cell_type": "markdown",
   "metadata": {},
   "source": [
    "# <center>CMSE 202 Final Project</center>"
   ]
  },
  {
   "attachments": {},
   "cell_type": "markdown",
   "metadata": {},
   "source": [
    "# ___How have carbon emissions affected climate change?___"
   ]
  },
  {
   "attachments": {},
   "cell_type": "markdown",
   "metadata": {},
   "source": [
    "## _Group Members: Peter Fu Chen, Riley Millikan, Mike Liu, Alex Tran, Trevor Parcella_"
   ]
  },
  {
   "attachments": {},
   "cell_type": "markdown",
   "metadata": {},
   "source": [
    "_Background and Motivation:_\n",
    "\n",
    "_The purpose of this project is to explore the relationship between carbon emissions and climate change. Carbon emissions are known to be a leading contributor to climate change, which has significant impacts on the environment and human society. Therefore, understanding the relationship between these two variables is crucial._\n",
    "\n",
    "_Project Overview:_\n",
    "\n",
    "_The project will analyze the historical trends of carbon emissions and climate change. The following aspects will be examined:_\n",
    "\n",
    "- The relationship between carbon emissions and rising temperatures\n",
    "- The impact of carbon emissions on extreme weather events\n",
    "- The role of carbon emissions in sea level rise\n",
    "\n",
    "_Goals:_\n",
    "\n",
    "- Analyze historical trends in carbon emissions and climate change\n",
    "- Examine the relationship between carbon emissions and various climate variables, such as temperature, extreme weather events, sea level, and ocean acidity\n",
    "- Create visualizations to illustrate findings\n",
    "- Draw conclusions about the impact of carbon emissions on climate change"
   ]
  },
  {
   "cell_type": "markdown",
   "metadata": {},
   "source": [
    "## Methodology"
   ]
  },
  {
   "attachments": {},
   "cell_type": "markdown",
   "metadata": {},
   "source": [
    "### This research is carried out from the following aspects.\n",
    "\n",
    "- Data collection and cleaning: historical data on carbon emissions and climate variables will be collected and cleaned using Python libraries such as pandas and numpy.\n",
    "- Data analysis: various statistical and machine learning techniques will be used to analyze the relationship between carbon emissions and climate variables. Linear regression models will be trained to predict the impact of carbon emissions on climate variables.\n",
    "- Visualization: data visualizations will be created using Python libraries such as matplotlib and seaborn to illustrate the relationship between carbon emissions and climate variables.\n",
    "- Conclusion: based on the analysis and visualizations, conclusions will be drawn about the impact of carbon emissions on climate change.\n"
   ]
  },
  {
   "cell_type": "code",
   "execution_count": 1,
   "metadata": {},
   "outputs": [],
   "source": [
    "import pandas as pd\n",
    "import numpy as np\n",
    "import matplotlib.pyplot as plt\n",
    "import seaborn as sns\n",
    "from sklearn.linear_model import LinearRegression\n",
    "import statsmodels.api as sm\n",
    "%matplotlib inline\n",
    "sns.set(style='darkgrid')"
   ]
  },
  {
   "cell_type": "markdown",
   "metadata": {},
   "source": [
    "## Results"
   ]
  },
  {
   "attachments": {},
   "cell_type": "markdown",
   "metadata": {},
   "source": [
    "_The project will provide insights into the relationship between carbon emissions and climate change. The findings will be presented through data visualizations and conclusions drawn from the analysis._"
   ]
  },
  {
   "cell_type": "markdown",
   "metadata": {},
   "source": [
    "### References"
   ]
  },
  {
   "attachments": {},
   "cell_type": "markdown",
   "metadata": {},
   "source": [
    "_The project will use various data sources and research papers to collect historical data and understand the impact of carbon emissions on climate change. These references will be cited in the project report._"
   ]
  }
 ],
 "metadata": {
  "kernelspec": {
   "display_name": "base",
   "language": "python",
   "name": "python3"
  },
  "language_info": {
   "codemirror_mode": {
    "name": "ipython",
    "version": 3
   },
   "file_extension": ".py",
   "mimetype": "text/x-python",
   "name": "python",
   "nbconvert_exporter": "python",
   "pygments_lexer": "ipython3",
   "version": "3.9.16"
  },
  "orig_nbformat": 4,
  "vscode": {
   "interpreter": {
    "hash": "22c32a88c272cd0ffba3bfc0d2cd36a98661463b0f5e7c7ff81dbd09588944d8"
   }
  }
 },
 "nbformat": 4,
 "nbformat_minor": 2
}
