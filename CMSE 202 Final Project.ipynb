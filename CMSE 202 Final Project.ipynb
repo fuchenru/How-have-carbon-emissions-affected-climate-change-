{
 "cells": [
  {
   "cell_type": "markdown",
   "metadata": {},
   "source": [
    "# <center>CMSE 202 Final Project</center>"
   ]
  },
  {
   "cell_type": "markdown",
   "metadata": {},
   "source": [
    "# ___How have carbon emissions affected climate change?___"
   ]
  },
  {
   "cell_type": "markdown",
   "metadata": {},
   "source": [
    "## _Group Members: Peter Fu Chen, Riley Millikan, Mike Liu, Alex Tran, Trevor Parcella_"
   ]
  },
  {
   "attachments": {},
   "cell_type": "markdown",
   "metadata": {},
   "source": [
    "_Background and Motivation:_\n",
    "\n",
    "_The purpose of this project is to explore the relationship between carbon emissions and climate change. Carbon emissions are known to be a leading contributor to climate change, which has significant impacts on the environment and human society. Therefore, understanding the relationship between these two variables is crucial._\n",
    "\n",
    "_Project Overview:_\n",
    "\n",
    "_This project aims to analyze the historical trends of carbon emissions and climate change, specifically examining the relationship between carbon emissions and rising temperatures, the impact of carbon emissions on extreme weather events, and the role of carbon emissions in sea level rise._\n",
    "\n",
    "_Goals:_\n",
    "\n",
    "_The goals of this project are to analyze historical trends in carbon emissions and climate change, examine the relationship between carbon emissions and various climate variables such as temperature, weather events, sea level, and ocean acidity, create visualizations to illustrate findings, and draw conclusions about the impact of carbon emissions on climate change._"
   ]
  },
  {
   "cell_type": "markdown",
   "metadata": {},
   "source": [
    "## Methodology"
   ]
  },
  {
   "attachments": {},
   "cell_type": "markdown",
   "metadata": {},
   "source": [
    "### This research is carried out from the following aspects.\n",
    "\n",
    "- Data collection and cleaning: Historical data on carbon emissions and climate variables will be collected and cleaned using Python libraries such as pandas and numpy.\n",
    "- Data analysis: Various statistical and machine learning techniques will be used to analyze the relationship between carbon emissions and climate variables.\n",
    "- Visualization: Data visualizations will be created using Python libraries such as matplotlib and seaborn to illustrate the relationship between carbon emissions and climate variables.\n",
    "- Conclusion: Based on the analysis and visualizations, conclusions will be drawn about the impact of carbon emissions on climate change, and policy recommendations may be made to address this pressing issue.\n"
   ]
  },
  {
   "cell_type": "code",
   "execution_count": 32,
   "metadata": {},
   "outputs": [],
   "source": [
    "import pandas as pd\n",
    "import numpy as np\n",
    "import matplotlib.pyplot as plt\n",
    "import seaborn as sns\n",
    "from sklearn.linear_model import LinearRegression\n",
    "from sklearn.model_selection import train_test_split\n",
    "from sklearn.preprocessing import PolynomialFeatures\n",
    "from sklearn.cluster import KMeans\n",
    "from sklearn.tree import DecisionTreeRegressor\n",
    "from sklearn.metrics import mean_squared_error\n",
    "import statsmodels.api as sm\n",
    "%matplotlib inline\n",
    "sns.set(style='darkgrid')"
   ]
  },
  {
   "attachments": {},
   "cell_type": "markdown",
   "metadata": {},
   "source": [
    "### Data preparation"
   ]
  },
  {
   "cell_type": "code",
   "execution_count": 33,
   "metadata": {},
   "outputs": [
    {
     "data": {
      "text/html": [
       "<div>\n",
       "<style scoped>\n",
       "    .dataframe tbody tr th:only-of-type {\n",
       "        vertical-align: middle;\n",
       "    }\n",
       "\n",
       "    .dataframe tbody tr th {\n",
       "        vertical-align: top;\n",
       "    }\n",
       "\n",
       "    .dataframe thead th {\n",
       "        text-align: right;\n",
       "    }\n",
       "</style>\n",
       "<table border=\"1\" class=\"dataframe\">\n",
       "  <thead>\n",
       "    <tr style=\"text-align: right;\">\n",
       "      <th></th>\n",
       "      <th>Entity</th>\n",
       "      <th>Code</th>\n",
       "      <th>Year</th>\n",
       "      <th>Annual CO₂ emissions</th>\n",
       "    </tr>\n",
       "  </thead>\n",
       "  <tbody>\n",
       "    <tr>\n",
       "      <th>0</th>\n",
       "      <td>Afghanistan</td>\n",
       "      <td>AFG</td>\n",
       "      <td>1949</td>\n",
       "      <td>14656.0</td>\n",
       "    </tr>\n",
       "    <tr>\n",
       "      <th>1</th>\n",
       "      <td>Afghanistan</td>\n",
       "      <td>AFG</td>\n",
       "      <td>1950</td>\n",
       "      <td>84272.0</td>\n",
       "    </tr>\n",
       "    <tr>\n",
       "      <th>2</th>\n",
       "      <td>Afghanistan</td>\n",
       "      <td>AFG</td>\n",
       "      <td>1951</td>\n",
       "      <td>91600.0</td>\n",
       "    </tr>\n",
       "    <tr>\n",
       "      <th>3</th>\n",
       "      <td>Afghanistan</td>\n",
       "      <td>AFG</td>\n",
       "      <td>1952</td>\n",
       "      <td>91600.0</td>\n",
       "    </tr>\n",
       "    <tr>\n",
       "      <th>4</th>\n",
       "      <td>Afghanistan</td>\n",
       "      <td>AFG</td>\n",
       "      <td>1953</td>\n",
       "      <td>106256.0</td>\n",
       "    </tr>\n",
       "    <tr>\n",
       "      <th>...</th>\n",
       "      <td>...</td>\n",
       "      <td>...</td>\n",
       "      <td>...</td>\n",
       "      <td>...</td>\n",
       "    </tr>\n",
       "    <tr>\n",
       "      <th>31344</th>\n",
       "      <td>Zimbabwe</td>\n",
       "      <td>ZWE</td>\n",
       "      <td>2017</td>\n",
       "      <td>9596071.0</td>\n",
       "    </tr>\n",
       "    <tr>\n",
       "      <th>31345</th>\n",
       "      <td>Zimbabwe</td>\n",
       "      <td>ZWE</td>\n",
       "      <td>2018</td>\n",
       "      <td>11795478.0</td>\n",
       "    </tr>\n",
       "    <tr>\n",
       "      <th>31346</th>\n",
       "      <td>Zimbabwe</td>\n",
       "      <td>ZWE</td>\n",
       "      <td>2019</td>\n",
       "      <td>11114607.0</td>\n",
       "    </tr>\n",
       "    <tr>\n",
       "      <th>31347</th>\n",
       "      <td>Zimbabwe</td>\n",
       "      <td>ZWE</td>\n",
       "      <td>2020</td>\n",
       "      <td>10607897.0</td>\n",
       "    </tr>\n",
       "    <tr>\n",
       "      <th>31348</th>\n",
       "      <td>Zimbabwe</td>\n",
       "      <td>ZWE</td>\n",
       "      <td>2021</td>\n",
       "      <td>11296114.0</td>\n",
       "    </tr>\n",
       "  </tbody>\n",
       "</table>\n",
       "<p>31349 rows × 4 columns</p>\n",
       "</div>"
      ],
      "text/plain": [
       "            Entity Code  Year  Annual CO₂ emissions\n",
       "0      Afghanistan  AFG  1949               14656.0\n",
       "1      Afghanistan  AFG  1950               84272.0\n",
       "2      Afghanistan  AFG  1951               91600.0\n",
       "3      Afghanistan  AFG  1952               91600.0\n",
       "4      Afghanistan  AFG  1953              106256.0\n",
       "...            ...  ...   ...                   ...\n",
       "31344     Zimbabwe  ZWE  2017             9596071.0\n",
       "31345     Zimbabwe  ZWE  2018            11795478.0\n",
       "31346     Zimbabwe  ZWE  2019            11114607.0\n",
       "31347     Zimbabwe  ZWE  2020            10607897.0\n",
       "31348     Zimbabwe  ZWE  2021            11296114.0\n",
       "\n",
       "[31349 rows x 4 columns]"
      ]
     },
     "execution_count": 33,
     "metadata": {},
     "output_type": "execute_result"
    }
   ],
   "source": [
    "co2_emission=pd.read_csv('annual-co2-emissions-per-country.csv')\n",
    "co2_emission"
   ]
  },
  {
   "cell_type": "code",
   "execution_count": 34,
   "metadata": {},
   "outputs": [
    {
     "name": "stdout",
     "output_type": "stream",
     "text": [
      "[393792063.99998, 397609954.0, 415101883.8, 434418498.0, 510277958.0, 520331959.02, 554583046.0, 559778574.0, 568342589.0320001, 602623307.0, 661282556.0, 695469067.1, 708113347.0, 755718136.0, 814180585.04, 864613960.0, 891939390.0, 955629821.738, 981504993.0, 1042261476.0, 1065073489.0009999, 1132285964.0, 1252743591.06, 1330838148.1, 1245994516.012, 1351598259.06, 1371105419.7, 1398197026.9, 1408758430.01, 1509734414.97, 1707409320.0, 1764810069.49, 1863843816.9, 1982064830.0, 2004348573.0, 2019342708.49, 2050950913.01, 2153515582.01, 2384543743.01, 2383599229.0, 2596916426.0, 2717747805.2200003, 2740176547.8, 2707337397.06, 2801715347.9700003, 2970545187.0, 3067402834.976, 3212601042.4700003, 3388531466.916, 3701596174.5039997, 3904419019.84, 4033488889.0299997, 4135368078.02, 4508189710.03, 4559497590.0, 4854626348.48, 5069468615.98, 5776615844.0, 5552808533.3, 5780936166.940001, 6067639835.0, 6158429778.03, 6471076814.0, 7011730454.97, 6359824800.2, 6268756370.88, 6770554903.13, 7079704980.86, 6985679874.51, 6057119735.3, 7042124913.41, 6178928524.059999, 6479471710.6, 7350796176.98, 7372198444.860001, 7451273440.0, 7318594225.84, 7987507885.064, 7952142195.04, 8535314258.208, 7869459965.059999, 7033880970.21, 6341601162.6, 6676698621.03, 7261530721.2, 7622223690.42, 8362176822.79, 8938738613.0, 8402559568.757999, 8890885603.602, 9709315077.8, 9931297842.0, 9907247039.63, 10070154359.898, 10221312262.9, 8500528364.7, 9276677872.470001, 10276980040.8, 10831419148.0, 10491676338.39, 11876464886.17, 12604869562.72, 12773546988.6, 13131899821.68, 13415538179.89, 14697671793.61, 15645239364.09, 16145249103.66, 16626447477.2, 17498449992.92, 18536629009.129997, 18573093317.21, 19228516515.300003, 20256617560.02, 21344981216.05, 22310733049.1, 23382979390.28, 24112634600.0, 25424526613.12, 27119276780.0, 29358169364.52, 30545945512.56, 31955798143.69, 33644996929.05, 33544998692.0, 33660496205.54, 35543883514.520004, 36555502280.98, 37697513199.24, 38778467001.93, 38556060460.0, 37660088494.479996, 37395793505.9, 37654776397.76, 38969889311.7, 40283657500.979996, 40861174609.9, 42020457379.47, 43670208986.759995, 44255772979.944, 44964595556.1, 45944364634.78, 44604109254.0, 45066209569.39, 45352071669.86, 46297359055.22, 47647820814.08, 47899464268.82, 47678387312.03, 48691857183.58, 50123682360.97, 50557257941.93, 51764843659.5, 54471217688.89, 56369020120.96, 58286536299.44, 60191237766.58, 61961172764.45, 63110119439.82, 62111203038.95, 65647908677.44, 67865082755.42, 68917631785.03, 69527347525.38, 70037606609.89, 69958739704.94]\n"
     ]
    },
    {
     "data": {
      "text/plain": [
       "166"
      ]
     },
     "execution_count": 34,
     "metadata": {},
     "output_type": "execute_result"
    }
   ],
   "source": [
    "years=[i for i in range(1850,2016)]\n",
    "yearly_emissions=[]\n",
    "for year in years:\n",
    "    temp=co2_emission.where(co2_emission[\"Year\"]==year)\n",
    "    temp=temp.dropna()\n",
    "    yearly_emissions.append(sum(temp.iloc[:, -1]))\n",
    "\n",
    "print(yearly_emissions)\n",
    "len(yearly_emissions)"
   ]
  },
  {
   "cell_type": "markdown",
   "metadata": {},
   "source": [
    "co2 emissions from 1850 to 2015"
   ]
  },
  {
   "cell_type": "code",
   "execution_count": 35,
   "metadata": {},
   "outputs": [
    {
     "data": {
      "text/html": [
       "<div>\n",
       "<style scoped>\n",
       "    .dataframe tbody tr th:only-of-type {\n",
       "        vertical-align: middle;\n",
       "    }\n",
       "\n",
       "    .dataframe tbody tr th {\n",
       "        vertical-align: top;\n",
       "    }\n",
       "\n",
       "    .dataframe thead th {\n",
       "        text-align: right;\n",
       "    }\n",
       "</style>\n",
       "<table border=\"1\" class=\"dataframe\">\n",
       "  <thead>\n",
       "    <tr style=\"text-align: right;\">\n",
       "      <th></th>\n",
       "      <th>Time</th>\n",
       "      <th>GMSL</th>\n",
       "      <th>GMSL uncertainty</th>\n",
       "    </tr>\n",
       "  </thead>\n",
       "  <tbody>\n",
       "    <tr>\n",
       "      <th>0</th>\n",
       "      <td>1880-01-15</td>\n",
       "      <td>-183.0</td>\n",
       "      <td>24.2</td>\n",
       "    </tr>\n",
       "    <tr>\n",
       "      <th>1</th>\n",
       "      <td>1880-02-15</td>\n",
       "      <td>-171.1</td>\n",
       "      <td>24.2</td>\n",
       "    </tr>\n",
       "    <tr>\n",
       "      <th>2</th>\n",
       "      <td>1880-03-15</td>\n",
       "      <td>-164.3</td>\n",
       "      <td>24.2</td>\n",
       "    </tr>\n",
       "    <tr>\n",
       "      <th>3</th>\n",
       "      <td>1880-04-15</td>\n",
       "      <td>-158.2</td>\n",
       "      <td>24.2</td>\n",
       "    </tr>\n",
       "    <tr>\n",
       "      <th>4</th>\n",
       "      <td>1880-05-15</td>\n",
       "      <td>-158.7</td>\n",
       "      <td>24.2</td>\n",
       "    </tr>\n",
       "    <tr>\n",
       "      <th>...</th>\n",
       "      <td>...</td>\n",
       "      <td>...</td>\n",
       "      <td>...</td>\n",
       "    </tr>\n",
       "    <tr>\n",
       "      <th>1603</th>\n",
       "      <td>2013-08-15</td>\n",
       "      <td>71.6</td>\n",
       "      <td>8.8</td>\n",
       "    </tr>\n",
       "    <tr>\n",
       "      <th>1604</th>\n",
       "      <td>2013-09-15</td>\n",
       "      <td>68.8</td>\n",
       "      <td>8.8</td>\n",
       "    </tr>\n",
       "    <tr>\n",
       "      <th>1605</th>\n",
       "      <td>2013-10-15</td>\n",
       "      <td>66.4</td>\n",
       "      <td>8.9</td>\n",
       "    </tr>\n",
       "    <tr>\n",
       "      <th>1606</th>\n",
       "      <td>2013-11-15</td>\n",
       "      <td>59.7</td>\n",
       "      <td>9.0</td>\n",
       "    </tr>\n",
       "    <tr>\n",
       "      <th>1607</th>\n",
       "      <td>2013-12-15</td>\n",
       "      <td>58.5</td>\n",
       "      <td>9.0</td>\n",
       "    </tr>\n",
       "  </tbody>\n",
       "</table>\n",
       "<p>1608 rows × 3 columns</p>\n",
       "</div>"
      ],
      "text/plain": [
       "            Time   GMSL  GMSL uncertainty\n",
       "0     1880-01-15 -183.0              24.2\n",
       "1     1880-02-15 -171.1              24.2\n",
       "2     1880-03-15 -164.3              24.2\n",
       "3     1880-04-15 -158.2              24.2\n",
       "4     1880-05-15 -158.7              24.2\n",
       "...          ...    ...               ...\n",
       "1603  2013-08-15   71.6               8.8\n",
       "1604  2013-09-15   68.8               8.8\n",
       "1605  2013-10-15   66.4               8.9\n",
       "1606  2013-11-15   59.7               9.0\n",
       "1607  2013-12-15   58.5               9.0\n",
       "\n",
       "[1608 rows x 3 columns]"
      ]
     },
     "execution_count": 35,
     "metadata": {},
     "output_type": "execute_result"
    }
   ],
   "source": [
    "sea_level=pd.read_csv(\"sea_levels_2015.csv\")\n",
    "sea_level"
   ]
  },
  {
   "cell_type": "code",
   "execution_count": 36,
   "metadata": {},
   "outputs": [
    {
     "name": "stdout",
     "output_type": "stream",
     "text": [
      "134\n"
     ]
    },
    {
     "name": "stderr",
     "output_type": "stream",
     "text": [
      "/var/folders/ct/9dggbn3n5blc83qhjqtlcryw0000gn/T/ipykernel_46611/1741312422.py:4: SettingWithCopyWarning: \n",
      "A value is trying to be set on a copy of a slice from a DataFrame.\n",
      "Try using .loc[row_indexer,col_indexer] = value instead\n",
      "\n",
      "See the caveats in the documentation: https://pandas.pydata.org/pandas-docs/stable/user_guide/indexing.html#returning-a-view-versus-a-copy\n",
      "  sea_level[\"Time\"]=pd.to_datetime(sea_level['Time'])\n"
     ]
    },
    {
     "data": {
      "text/html": [
       "<div>\n",
       "<style scoped>\n",
       "    .dataframe tbody tr th:only-of-type {\n",
       "        vertical-align: middle;\n",
       "    }\n",
       "\n",
       "    .dataframe tbody tr th {\n",
       "        vertical-align: top;\n",
       "    }\n",
       "\n",
       "    .dataframe thead tr th {\n",
       "        text-align: left;\n",
       "    }\n",
       "</style>\n",
       "<table border=\"1\" class=\"dataframe\">\n",
       "  <thead>\n",
       "    <tr>\n",
       "      <th></th>\n",
       "      <th>year</th>\n",
       "      <th>GMSL</th>\n",
       "    </tr>\n",
       "    <tr>\n",
       "      <th></th>\n",
       "      <th></th>\n",
       "      <th>mean</th>\n",
       "    </tr>\n",
       "  </thead>\n",
       "  <tbody>\n",
       "    <tr>\n",
       "      <th>0</th>\n",
       "      <td>1880</td>\n",
       "      <td>-158.725000</td>\n",
       "    </tr>\n",
       "    <tr>\n",
       "      <th>1</th>\n",
       "      <td>1881</td>\n",
       "      <td>-153.058333</td>\n",
       "    </tr>\n",
       "    <tr>\n",
       "      <th>2</th>\n",
       "      <td>1882</td>\n",
       "      <td>-169.883333</td>\n",
       "    </tr>\n",
       "    <tr>\n",
       "      <th>3</th>\n",
       "      <td>1883</td>\n",
       "      <td>-164.591667</td>\n",
       "    </tr>\n",
       "    <tr>\n",
       "      <th>4</th>\n",
       "      <td>1884</td>\n",
       "      <td>-143.750000</td>\n",
       "    </tr>\n",
       "    <tr>\n",
       "      <th>...</th>\n",
       "      <td>...</td>\n",
       "      <td>...</td>\n",
       "    </tr>\n",
       "    <tr>\n",
       "      <th>129</th>\n",
       "      <td>2009</td>\n",
       "      <td>58.016667</td>\n",
       "    </tr>\n",
       "    <tr>\n",
       "      <th>130</th>\n",
       "      <td>2010</td>\n",
       "      <td>65.750000</td>\n",
       "    </tr>\n",
       "    <tr>\n",
       "      <th>131</th>\n",
       "      <td>2011</td>\n",
       "      <td>67.300000</td>\n",
       "    </tr>\n",
       "    <tr>\n",
       "      <th>132</th>\n",
       "      <td>2012</td>\n",
       "      <td>76.083333</td>\n",
       "    </tr>\n",
       "    <tr>\n",
       "      <th>133</th>\n",
       "      <td>2013</td>\n",
       "      <td>67.725000</td>\n",
       "    </tr>\n",
       "  </tbody>\n",
       "</table>\n",
       "<p>134 rows × 2 columns</p>\n",
       "</div>"
      ],
      "text/plain": [
       "     year        GMSL\n",
       "                 mean\n",
       "0    1880 -158.725000\n",
       "1    1881 -153.058333\n",
       "2    1882 -169.883333\n",
       "3    1883 -164.591667\n",
       "4    1884 -143.750000\n",
       "..    ...         ...\n",
       "129  2009   58.016667\n",
       "130  2010   65.750000\n",
       "131  2011   67.300000\n",
       "132  2012   76.083333\n",
       "133  2013   67.725000\n",
       "\n",
       "[134 rows x 2 columns]"
      ]
     },
     "execution_count": 36,
     "metadata": {},
     "output_type": "execute_result"
    }
   ],
   "source": [
    "sea_level=sea_level[[\"Time\",'GMSL']]\n",
    "sea_level\n",
    "\n",
    "sea_level[\"Time\"]=pd.to_datetime(sea_level['Time'])\n",
    "sea_level['year']=sea_level['Time'].dt.year\n",
    "\n",
    "annual_sea_level=sea_level.groupby(\"year\").agg({'GMSL':[\"mean\"]}).reset_index()\n",
    "\n",
    "print(len(annual_sea_level))\n",
    "annual_sea_level"
   ]
  },
  {
   "cell_type": "code",
   "execution_count": 37,
   "metadata": {},
   "outputs": [
    {
     "data": {
      "text/html": [
       "<div>\n",
       "<style scoped>\n",
       "    .dataframe tbody tr th:only-of-type {\n",
       "        vertical-align: middle;\n",
       "    }\n",
       "\n",
       "    .dataframe tbody tr th {\n",
       "        vertical-align: top;\n",
       "    }\n",
       "\n",
       "    .dataframe thead th {\n",
       "        text-align: right;\n",
       "    }\n",
       "</style>\n",
       "<table border=\"1\" class=\"dataframe\">\n",
       "  <thead>\n",
       "    <tr style=\"text-align: right;\">\n",
       "      <th></th>\n",
       "      <th>Year</th>\n",
       "      <th>Value</th>\n",
       "    </tr>\n",
       "  </thead>\n",
       "  <tbody>\n",
       "    <tr>\n",
       "      <th>0</th>\n",
       "      <td>1850</td>\n",
       "      <td>-0.06</td>\n",
       "    </tr>\n",
       "    <tr>\n",
       "      <th>1</th>\n",
       "      <td>1851</td>\n",
       "      <td>0.00</td>\n",
       "    </tr>\n",
       "    <tr>\n",
       "      <th>2</th>\n",
       "      <td>1852</td>\n",
       "      <td>0.03</td>\n",
       "    </tr>\n",
       "    <tr>\n",
       "      <th>3</th>\n",
       "      <td>1853</td>\n",
       "      <td>0.01</td>\n",
       "    </tr>\n",
       "    <tr>\n",
       "      <th>4</th>\n",
       "      <td>1854</td>\n",
       "      <td>-0.02</td>\n",
       "    </tr>\n",
       "    <tr>\n",
       "      <th>...</th>\n",
       "      <td>...</td>\n",
       "      <td>...</td>\n",
       "    </tr>\n",
       "    <tr>\n",
       "      <th>168</th>\n",
       "      <td>2018</td>\n",
       "      <td>0.66</td>\n",
       "    </tr>\n",
       "    <tr>\n",
       "      <th>169</th>\n",
       "      <td>2019</td>\n",
       "      <td>0.74</td>\n",
       "    </tr>\n",
       "    <tr>\n",
       "      <th>170</th>\n",
       "      <td>2020</td>\n",
       "      <td>0.72</td>\n",
       "    </tr>\n",
       "    <tr>\n",
       "      <th>171</th>\n",
       "      <td>2021</td>\n",
       "      <td>0.63</td>\n",
       "    </tr>\n",
       "    <tr>\n",
       "      <th>172</th>\n",
       "      <td>2022</td>\n",
       "      <td>0.67</td>\n",
       "    </tr>\n",
       "  </tbody>\n",
       "</table>\n",
       "<p>173 rows × 2 columns</p>\n",
       "</div>"
      ],
      "text/plain": [
       "     Year  Value\n",
       "0    1850  -0.06\n",
       "1    1851   0.00\n",
       "2    1852   0.03\n",
       "3    1853   0.01\n",
       "4    1854  -0.02\n",
       "..    ...    ...\n",
       "168  2018   0.66\n",
       "169  2019   0.74\n",
       "170  2020   0.72\n",
       "171  2021   0.63\n",
       "172  2022   0.67\n",
       "\n",
       "[173 rows x 2 columns]"
      ]
     },
     "execution_count": 37,
     "metadata": {},
     "output_type": "execute_result"
    }
   ],
   "source": [
    "ocean_temp=pd.read_csv(\"ocean_data.csv\", skiprows=4)\n",
    "ocean_temp"
   ]
  },
  {
   "cell_type": "code",
   "execution_count": 38,
   "metadata": {},
   "outputs": [
    {
     "data": {
      "text/html": [
       "<div>\n",
       "<style scoped>\n",
       "    .dataframe tbody tr th:only-of-type {\n",
       "        vertical-align: middle;\n",
       "    }\n",
       "\n",
       "    .dataframe tbody tr th {\n",
       "        vertical-align: top;\n",
       "    }\n",
       "\n",
       "    .dataframe thead th {\n",
       "        text-align: right;\n",
       "    }\n",
       "</style>\n",
       "<table border=\"1\" class=\"dataframe\">\n",
       "  <thead>\n",
       "    <tr style=\"text-align: right;\">\n",
       "      <th></th>\n",
       "      <th>Year</th>\n",
       "      <th>Value</th>\n",
       "    </tr>\n",
       "  </thead>\n",
       "  <tbody>\n",
       "    <tr>\n",
       "      <th>0</th>\n",
       "      <td>1850</td>\n",
       "      <td>-0.06</td>\n",
       "    </tr>\n",
       "    <tr>\n",
       "      <th>2</th>\n",
       "      <td>1852</td>\n",
       "      <td>0.03</td>\n",
       "    </tr>\n",
       "    <tr>\n",
       "      <th>3</th>\n",
       "      <td>1853</td>\n",
       "      <td>0.01</td>\n",
       "    </tr>\n",
       "    <tr>\n",
       "      <th>4</th>\n",
       "      <td>1854</td>\n",
       "      <td>-0.02</td>\n",
       "    </tr>\n",
       "    <tr>\n",
       "      <th>5</th>\n",
       "      <td>1855</td>\n",
       "      <td>0.01</td>\n",
       "    </tr>\n",
       "    <tr>\n",
       "      <th>...</th>\n",
       "      <td>...</td>\n",
       "      <td>...</td>\n",
       "    </tr>\n",
       "    <tr>\n",
       "      <th>161</th>\n",
       "      <td>2011</td>\n",
       "      <td>0.41</td>\n",
       "    </tr>\n",
       "    <tr>\n",
       "      <th>162</th>\n",
       "      <td>2012</td>\n",
       "      <td>0.48</td>\n",
       "    </tr>\n",
       "    <tr>\n",
       "      <th>163</th>\n",
       "      <td>2013</td>\n",
       "      <td>0.52</td>\n",
       "    </tr>\n",
       "    <tr>\n",
       "      <th>164</th>\n",
       "      <td>2014</td>\n",
       "      <td>0.61</td>\n",
       "    </tr>\n",
       "    <tr>\n",
       "      <th>165</th>\n",
       "      <td>2015</td>\n",
       "      <td>0.72</td>\n",
       "    </tr>\n",
       "  </tbody>\n",
       "</table>\n",
       "<p>165 rows × 2 columns</p>\n",
       "</div>"
      ],
      "text/plain": [
       "     Year  Value\n",
       "0    1850  -0.06\n",
       "2    1852   0.03\n",
       "3    1853   0.01\n",
       "4    1854  -0.02\n",
       "5    1855   0.01\n",
       "..    ...    ...\n",
       "161  2011   0.41\n",
       "162  2012   0.48\n",
       "163  2013   0.52\n",
       "164  2014   0.61\n",
       "165  2015   0.72\n",
       "\n",
       "[165 rows x 2 columns]"
      ]
     },
     "execution_count": 38,
     "metadata": {},
     "output_type": "execute_result"
    }
   ],
   "source": [
    "ocean_temp=ocean_temp.drop(1).drop(ocean_temp.index[-7:])\n",
    "ocean_temp"
   ]
  },
  {
   "cell_type": "code",
   "execution_count": 39,
   "metadata": {},
   "outputs": [
    {
     "data": {
      "text/html": [
       "<div>\n",
       "<style scoped>\n",
       "    .dataframe tbody tr th:only-of-type {\n",
       "        vertical-align: middle;\n",
       "    }\n",
       "\n",
       "    .dataframe tbody tr th {\n",
       "        vertical-align: top;\n",
       "    }\n",
       "\n",
       "    .dataframe thead th {\n",
       "        text-align: right;\n",
       "    }\n",
       "</style>\n",
       "<table border=\"1\" class=\"dataframe\">\n",
       "  <thead>\n",
       "    <tr style=\"text-align: right;\">\n",
       "      <th></th>\n",
       "      <th>dt</th>\n",
       "      <th>LandAverageTemperature</th>\n",
       "      <th>LandAverageTemperatureUncertainty</th>\n",
       "      <th>LandMaxTemperature</th>\n",
       "      <th>LandMaxTemperatureUncertainty</th>\n",
       "      <th>LandMinTemperature</th>\n",
       "      <th>LandMinTemperatureUncertainty</th>\n",
       "      <th>LandAndOceanAverageTemperature</th>\n",
       "      <th>LandAndOceanAverageTemperatureUncertainty</th>\n",
       "    </tr>\n",
       "  </thead>\n",
       "  <tbody>\n",
       "    <tr>\n",
       "      <th>0</th>\n",
       "      <td>1750-01-01</td>\n",
       "      <td>3.034</td>\n",
       "      <td>3.574</td>\n",
       "      <td>NaN</td>\n",
       "      <td>NaN</td>\n",
       "      <td>NaN</td>\n",
       "      <td>NaN</td>\n",
       "      <td>NaN</td>\n",
       "      <td>NaN</td>\n",
       "    </tr>\n",
       "    <tr>\n",
       "      <th>1</th>\n",
       "      <td>1750-02-01</td>\n",
       "      <td>3.083</td>\n",
       "      <td>3.702</td>\n",
       "      <td>NaN</td>\n",
       "      <td>NaN</td>\n",
       "      <td>NaN</td>\n",
       "      <td>NaN</td>\n",
       "      <td>NaN</td>\n",
       "      <td>NaN</td>\n",
       "    </tr>\n",
       "    <tr>\n",
       "      <th>2</th>\n",
       "      <td>1750-03-01</td>\n",
       "      <td>5.626</td>\n",
       "      <td>3.076</td>\n",
       "      <td>NaN</td>\n",
       "      <td>NaN</td>\n",
       "      <td>NaN</td>\n",
       "      <td>NaN</td>\n",
       "      <td>NaN</td>\n",
       "      <td>NaN</td>\n",
       "    </tr>\n",
       "    <tr>\n",
       "      <th>3</th>\n",
       "      <td>1750-04-01</td>\n",
       "      <td>8.490</td>\n",
       "      <td>2.451</td>\n",
       "      <td>NaN</td>\n",
       "      <td>NaN</td>\n",
       "      <td>NaN</td>\n",
       "      <td>NaN</td>\n",
       "      <td>NaN</td>\n",
       "      <td>NaN</td>\n",
       "    </tr>\n",
       "    <tr>\n",
       "      <th>4</th>\n",
       "      <td>1750-05-01</td>\n",
       "      <td>11.573</td>\n",
       "      <td>2.072</td>\n",
       "      <td>NaN</td>\n",
       "      <td>NaN</td>\n",
       "      <td>NaN</td>\n",
       "      <td>NaN</td>\n",
       "      <td>NaN</td>\n",
       "      <td>NaN</td>\n",
       "    </tr>\n",
       "    <tr>\n",
       "      <th>...</th>\n",
       "      <td>...</td>\n",
       "      <td>...</td>\n",
       "      <td>...</td>\n",
       "      <td>...</td>\n",
       "      <td>...</td>\n",
       "      <td>...</td>\n",
       "      <td>...</td>\n",
       "      <td>...</td>\n",
       "      <td>...</td>\n",
       "    </tr>\n",
       "    <tr>\n",
       "      <th>3187</th>\n",
       "      <td>2015-08-01</td>\n",
       "      <td>14.755</td>\n",
       "      <td>0.072</td>\n",
       "      <td>20.699</td>\n",
       "      <td>0.110</td>\n",
       "      <td>9.005</td>\n",
       "      <td>0.170</td>\n",
       "      <td>17.589</td>\n",
       "      <td>0.057</td>\n",
       "    </tr>\n",
       "    <tr>\n",
       "      <th>3188</th>\n",
       "      <td>2015-09-01</td>\n",
       "      <td>12.999</td>\n",
       "      <td>0.079</td>\n",
       "      <td>18.845</td>\n",
       "      <td>0.088</td>\n",
       "      <td>7.199</td>\n",
       "      <td>0.229</td>\n",
       "      <td>17.049</td>\n",
       "      <td>0.058</td>\n",
       "    </tr>\n",
       "    <tr>\n",
       "      <th>3189</th>\n",
       "      <td>2015-10-01</td>\n",
       "      <td>10.801</td>\n",
       "      <td>0.102</td>\n",
       "      <td>16.450</td>\n",
       "      <td>0.059</td>\n",
       "      <td>5.232</td>\n",
       "      <td>0.115</td>\n",
       "      <td>16.290</td>\n",
       "      <td>0.062</td>\n",
       "    </tr>\n",
       "    <tr>\n",
       "      <th>3190</th>\n",
       "      <td>2015-11-01</td>\n",
       "      <td>7.433</td>\n",
       "      <td>0.119</td>\n",
       "      <td>12.892</td>\n",
       "      <td>0.093</td>\n",
       "      <td>2.157</td>\n",
       "      <td>0.106</td>\n",
       "      <td>15.252</td>\n",
       "      <td>0.063</td>\n",
       "    </tr>\n",
       "    <tr>\n",
       "      <th>3191</th>\n",
       "      <td>2015-12-01</td>\n",
       "      <td>5.518</td>\n",
       "      <td>0.100</td>\n",
       "      <td>10.725</td>\n",
       "      <td>0.154</td>\n",
       "      <td>0.287</td>\n",
       "      <td>0.099</td>\n",
       "      <td>14.774</td>\n",
       "      <td>0.062</td>\n",
       "    </tr>\n",
       "  </tbody>\n",
       "</table>\n",
       "<p>3192 rows × 9 columns</p>\n",
       "</div>"
      ],
      "text/plain": [
       "              dt  LandAverageTemperature  LandAverageTemperatureUncertainty  \\\n",
       "0     1750-01-01                   3.034                              3.574   \n",
       "1     1750-02-01                   3.083                              3.702   \n",
       "2     1750-03-01                   5.626                              3.076   \n",
       "3     1750-04-01                   8.490                              2.451   \n",
       "4     1750-05-01                  11.573                              2.072   \n",
       "...          ...                     ...                                ...   \n",
       "3187  2015-08-01                  14.755                              0.072   \n",
       "3188  2015-09-01                  12.999                              0.079   \n",
       "3189  2015-10-01                  10.801                              0.102   \n",
       "3190  2015-11-01                   7.433                              0.119   \n",
       "3191  2015-12-01                   5.518                              0.100   \n",
       "\n",
       "      LandMaxTemperature  LandMaxTemperatureUncertainty  LandMinTemperature  \\\n",
       "0                    NaN                            NaN                 NaN   \n",
       "1                    NaN                            NaN                 NaN   \n",
       "2                    NaN                            NaN                 NaN   \n",
       "3                    NaN                            NaN                 NaN   \n",
       "4                    NaN                            NaN                 NaN   \n",
       "...                  ...                            ...                 ...   \n",
       "3187              20.699                          0.110               9.005   \n",
       "3188              18.845                          0.088               7.199   \n",
       "3189              16.450                          0.059               5.232   \n",
       "3190              12.892                          0.093               2.157   \n",
       "3191              10.725                          0.154               0.287   \n",
       "\n",
       "      LandMinTemperatureUncertainty  LandAndOceanAverageTemperature  \\\n",
       "0                               NaN                             NaN   \n",
       "1                               NaN                             NaN   \n",
       "2                               NaN                             NaN   \n",
       "3                               NaN                             NaN   \n",
       "4                               NaN                             NaN   \n",
       "...                             ...                             ...   \n",
       "3187                          0.170                          17.589   \n",
       "3188                          0.229                          17.049   \n",
       "3189                          0.115                          16.290   \n",
       "3190                          0.106                          15.252   \n",
       "3191                          0.099                          14.774   \n",
       "\n",
       "      LandAndOceanAverageTemperatureUncertainty  \n",
       "0                                           NaN  \n",
       "1                                           NaN  \n",
       "2                                           NaN  \n",
       "3                                           NaN  \n",
       "4                                           NaN  \n",
       "...                                         ...  \n",
       "3187                                      0.057  \n",
       "3188                                      0.058  \n",
       "3189                                      0.062  \n",
       "3190                                      0.063  \n",
       "3191                                      0.062  \n",
       "\n",
       "[3192 rows x 9 columns]"
      ]
     },
     "execution_count": 39,
     "metadata": {},
     "output_type": "execute_result"
    }
   ],
   "source": [
    "land_temp=pd.read_csv(\"global temperature.csv\")\n",
    "land_temp"
   ]
  },
  {
   "cell_type": "code",
   "execution_count": 40,
   "metadata": {},
   "outputs": [
    {
     "name": "stderr",
     "output_type": "stream",
     "text": [
      "/var/folders/ct/9dggbn3n5blc83qhjqtlcryw0000gn/T/ipykernel_46611/1682386524.py:4: SettingWithCopyWarning: \n",
      "A value is trying to be set on a copy of a slice from a DataFrame.\n",
      "Try using .loc[row_indexer,col_indexer] = value instead\n",
      "\n",
      "See the caveats in the documentation: https://pandas.pydata.org/pandas-docs/stable/user_guide/indexing.html#returning-a-view-versus-a-copy\n",
      "  land_temp[\"dt\"]=pd.to_datetime(land_temp['dt'])\n",
      "/var/folders/ct/9dggbn3n5blc83qhjqtlcryw0000gn/T/ipykernel_46611/1682386524.py:5: SettingWithCopyWarning: \n",
      "A value is trying to be set on a copy of a slice from a DataFrame.\n",
      "Try using .loc[row_indexer,col_indexer] = value instead\n",
      "\n",
      "See the caveats in the documentation: https://pandas.pydata.org/pandas-docs/stable/user_guide/indexing.html#returning-a-view-versus-a-copy\n",
      "  land_temp['year']=land_temp['dt'].dt.year\n"
     ]
    }
   ],
   "source": [
    "land_temp=land_temp[[\"dt\",'LandAverageTemperature']]\n",
    "land_temp\n",
    "\n",
    "land_temp[\"dt\"]=pd.to_datetime(land_temp['dt'])\n",
    "land_temp['year']=land_temp['dt'].dt.year\n",
    "\n",
    "annual_land_temp=land_temp.groupby(\"year\").agg({'LandAverageTemperature':[\"mean\"]}).reset_index()\n",
    "\n",
    "\n",
    "for i in range(100):\n",
    "    annual_land_temp=annual_land_temp.drop(i)"
   ]
  },
  {
   "cell_type": "code",
   "execution_count": 41,
   "metadata": {},
   "outputs": [
    {
     "data": {
      "text/html": [
       "<div>\n",
       "<style scoped>\n",
       "    .dataframe tbody tr th:only-of-type {\n",
       "        vertical-align: middle;\n",
       "    }\n",
       "\n",
       "    .dataframe tbody tr th {\n",
       "        vertical-align: top;\n",
       "    }\n",
       "\n",
       "    .dataframe thead tr th {\n",
       "        text-align: left;\n",
       "    }\n",
       "</style>\n",
       "<table border=\"1\" class=\"dataframe\">\n",
       "  <thead>\n",
       "    <tr>\n",
       "      <th></th>\n",
       "      <th>year</th>\n",
       "      <th>LandAverageTemperature</th>\n",
       "    </tr>\n",
       "    <tr>\n",
       "      <th></th>\n",
       "      <th></th>\n",
       "      <th>mean</th>\n",
       "    </tr>\n",
       "  </thead>\n",
       "  <tbody>\n",
       "    <tr>\n",
       "      <th>0</th>\n",
       "      <td>1850</td>\n",
       "      <td>7.900667</td>\n",
       "    </tr>\n",
       "    <tr>\n",
       "      <th>1</th>\n",
       "      <td>1851</td>\n",
       "      <td>8.178583</td>\n",
       "    </tr>\n",
       "    <tr>\n",
       "      <th>2</th>\n",
       "      <td>1852</td>\n",
       "      <td>8.100167</td>\n",
       "    </tr>\n",
       "    <tr>\n",
       "      <th>3</th>\n",
       "      <td>1853</td>\n",
       "      <td>8.041833</td>\n",
       "    </tr>\n",
       "    <tr>\n",
       "      <th>4</th>\n",
       "      <td>1854</td>\n",
       "      <td>8.210500</td>\n",
       "    </tr>\n",
       "    <tr>\n",
       "      <th>...</th>\n",
       "      <td>...</td>\n",
       "      <td>...</td>\n",
       "    </tr>\n",
       "    <tr>\n",
       "      <th>161</th>\n",
       "      <td>2011</td>\n",
       "      <td>9.516000</td>\n",
       "    </tr>\n",
       "    <tr>\n",
       "      <th>162</th>\n",
       "      <td>2012</td>\n",
       "      <td>9.507333</td>\n",
       "    </tr>\n",
       "    <tr>\n",
       "      <th>163</th>\n",
       "      <td>2013</td>\n",
       "      <td>9.606500</td>\n",
       "    </tr>\n",
       "    <tr>\n",
       "      <th>164</th>\n",
       "      <td>2014</td>\n",
       "      <td>9.570667</td>\n",
       "    </tr>\n",
       "    <tr>\n",
       "      <th>165</th>\n",
       "      <td>2015</td>\n",
       "      <td>9.831000</td>\n",
       "    </tr>\n",
       "  </tbody>\n",
       "</table>\n",
       "<p>166 rows × 2 columns</p>\n",
       "</div>"
      ],
      "text/plain": [
       "     year LandAverageTemperature\n",
       "                            mean\n",
       "0    1850               7.900667\n",
       "1    1851               8.178583\n",
       "2    1852               8.100167\n",
       "3    1853               8.041833\n",
       "4    1854               8.210500\n",
       "..    ...                    ...\n",
       "161  2011               9.516000\n",
       "162  2012               9.507333\n",
       "163  2013               9.606500\n",
       "164  2014               9.570667\n",
       "165  2015               9.831000\n",
       "\n",
       "[166 rows x 2 columns]"
      ]
     },
     "execution_count": 41,
     "metadata": {},
     "output_type": "execute_result"
    }
   ],
   "source": [
    "annual_land_temp_fixed=annual_land_temp.reset_index(drop=True)\n",
    "annual_land_temp_fixed"
   ]
  },
  {
   "attachments": {},
   "cell_type": "markdown",
   "metadata": {},
   "source": [
    "### Visualization"
   ]
  },
  {
   "cell_type": "markdown",
   "metadata": {},
   "source": [
    "#### 1. Line plot of annual CO2 emissions over time"
   ]
  },
  {
   "cell_type": "code",
   "execution_count": 42,
   "metadata": {},
   "outputs": [
    {
     "data": {
      "image/png": "[encoded data removed]",
      "text/plain": [
       "<Figure size 640x480 with 1 Axes>"
      ]
     },
     "metadata": {},
     "output_type": "display_data"
    }
   ],
   "source": [
    "plt.plot(years, yearly_emissions)\n",
    "plt.xlabel('Year')\n",
    "plt.ylabel('Annual CO2 Emissions (million metric tons)')\n",
    "plt.title('Annual CO2 Emissions from 1850 to 2015')\n",
    "plt.show()\n"
   ]
  },
  {
   "attachments": {},
   "cell_type": "markdown",
   "metadata": {},
   "source": [
    "*The line plot shows the historical trend of annual carbon dioxide (CO2) emissions from 1850 to 2015. The plot shows an overall upward trend, indicating that global carbon emissions have been increasing over time. This trend is concerning, as carbon emissions are a major contributor to climate change, which has significant impacts on the environment and human society.*"
   ]
  },
  {
   "attachments": {},
   "cell_type": "markdown",
   "metadata": {},
   "source": [
    "#### 2. Cumulative CO2 Emissions from 1880 to 2014: An Exponential Upward Trend"
   ]
  },
  {
   "cell_type": "code",
   "execution_count": 43,
   "metadata": {},
   "outputs": [
    {
     "data": {
      "image/png": "[encoded data removed]",
      "text/plain": [
       "<Figure size 640x480 with 1 Axes>"
      ]
     },
     "metadata": {},
     "output_type": "display_data"
    }
   ],
   "source": [
    "# Select the years of interest and initialize a list to store the cumulative CO2 emissions over time\n",
    "years = years[30:164]\n",
    "co2_emitted = [0]\n",
    "\n",
    "# Calculate the cumulative CO2 emissions by adding the yearly emissions to the previous total\n",
    "for year in yearly_emissions[30:164]:\n",
    "    co2_emitted.append(co2_emitted[-1] + year)\n",
    "\n",
    "# Convert the list to a numpy array and transpose it\n",
    "co2_emitted = np.array(co2_emitted[1:]).T\n",
    "\n",
    "# Plot the cumulative CO2 emissions over time\n",
    "plt.plot(years, co2_emitted)\n",
    "plt.xlabel('Year')\n",
    "plt.ylabel('Cumulative CO2 Emissions (million metric tons)')\n",
    "plt.title('Cumulative CO2 Emissions from 1880 to 2014')\n",
    "plt.show()\n"
   ]
  },
  {
   "attachments": {},
   "cell_type": "markdown",
   "metadata": {},
   "source": [
    "*The plot shows the cumulative carbon dioxide (CO2) emissions from 1880 to 2014, calculated by summing the yearly CO2 emissions over time. The plot shows an exponential upward trend in global carbon emissions, indicating that carbon emissions have been increasing at an accelerating rate over time.*"
   ]
  },
  {
   "attachments": {},
   "cell_type": "markdown",
   "metadata": {},
   "source": [
    "#### 3. The Relationship between Cumulative CO2 Emissions and Global Mean Sea Level: A Concave Upward Trend"
   ]
  },
  {
   "cell_type": "code",
   "execution_count": 44,
   "metadata": {},
   "outputs": [
    {
     "data": {
      "image/png": "[encoded data removed]",
      "text/plain": [
       "<Figure size 640x480 with 1 Axes>"
      ]
     },
     "metadata": {},
     "output_type": "display_data"
    }
   ],
   "source": [
    "# Plot the relationship between cumulative CO2 emissions and global mean sea level\n",
    "plt.plot(co2_emitted, annual_sea_level[('GMSL', 'mean')])\n",
    "plt.xlabel('Cumulative CO2 Emissions (million metric tons)')\n",
    "plt.ylabel('Global Mean Sea Level (mm)')\n",
    "plt.title('Relationship between Cumulative CO2 Emissions and Global Mean Sea Level')\n",
    "plt.show()\n"
   ]
  },
  {
   "attachments": {},
   "cell_type": "markdown",
   "metadata": {},
   "source": [
    "*The plot shows the relationship between cumulative carbon dioxide (CO2) emissions and global mean sea level from 1880 to 2014. The plot shows a concave upward trend, indicating that the relationship between cumulative CO2 emissions and global mean sea level is accelerating at a decreasing rate. This trend suggests that the effects of carbon emissions on sea level rise may become more severe over time.*"
   ]
  },
  {
   "attachments": {},
   "cell_type": "markdown",
   "metadata": {},
   "source": [
    "#### 4. The Linear Relationship between Square Root of Cumulative CO2 Emissions and Global Mean Sea Level"
   ]
  },
  {
   "cell_type": "code",
   "execution_count": 45,
   "metadata": {},
   "outputs": [
    {
     "data": {
      "image/png": "[encoded data removed]",
      "text/plain": [
       "<Figure size 640x480 with 1 Axes>"
      ]
     },
     "metadata": {},
     "output_type": "display_data"
    }
   ],
   "source": [
    "# Plot the relationship between the square root of cumulative CO2 emissions and global mean sea level\n",
    "plt.plot(co2_emitted**(1/2), annual_sea_level[('GMSL', 'mean')])\n",
    "plt.xlabel('Square Root of Cumulative CO2 Emissions (million metric tons)')\n",
    "plt.ylabel('Global Mean Sea Level (mm)')\n",
    "plt.title('Relationship between Square Root of Cumulative CO2 Emissions and Global Mean Sea Level')\n",
    "plt.show()\n"
   ]
  },
  {
   "attachments": {},
   "cell_type": "markdown",
   "metadata": {},
   "source": [
    "*The plot shows the relationship between the square root of cumulative carbon dioxide (CO2) emissions and global mean sea level from 1880 to 2014. The plot shows a linear upward trend, indicating that the relationship between the square root of cumulative CO2 emissions and global mean sea level is increasing at a constant rate. This trend suggests that there may be a linear relationship between the two variables.*"
   ]
  },
  {
   "attachments": {},
   "cell_type": "markdown",
   "metadata": {},
   "source": [
    "### Statistics Method"
   ]
  },
  {
   "cell_type": "code",
   "execution_count": 46,
   "metadata": {},
   "outputs": [
    {
     "name": "stdout",
     "output_type": "stream",
     "text": [
      "31349\n",
      "134\n",
      "134\n"
     ]
    },
    {
     "data": {
      "text/plain": [
       "134"
      ]
     },
     "execution_count": 46,
     "metadata": {},
     "output_type": "execute_result"
    }
   ],
   "source": [
    "annual_sea_level[(\"GMSL\",\"mean\")]\n",
    "print(len(co2_emission))\n",
    "print(len(years))\n",
    "print(len(annual_sea_level))\n",
    "len(co2_emitted)"
   ]
  },
  {
   "attachments": {},
   "cell_type": "markdown",
   "metadata": {},
   "source": [
    "#### 1. Linear Regression Analysis of the Relationship between Cumulative CO2 Emissions and Global Mean Sea Level Rise"
   ]
  },
  {
   "cell_type": "code",
   "execution_count": 47,
   "metadata": {},
   "outputs": [
    {
     "name": "stdout",
     "output_type": "stream",
     "text": [
      "R^2: 0.9130235583100648\n"
     ]
    }
   ],
   "source": [
    "data = pd.DataFrame({'CO2 emissions': co2_emitted, 'Global mean sea level': annual_sea_level[('GMSL', 'mean')]})\n",
    "\n",
    "# Split the data into training and testing sets\n",
    "X_train, X_test, y_train, y_test = train_test_split(data['CO2 emissions'], data['Global mean sea level'], test_size=0.3, random_state=0)\n",
    "\n",
    "# Create a linear regression object and fit the model to the training data\n",
    "reg = LinearRegression()\n",
    "reg.fit(X_train.values.reshape(-1, 1), y_train.values.reshape(-1, 1))\n",
    "\n",
    "# Predict the sea level rise using the test set\n",
    "y_pred = reg.predict(X_test.values.reshape(-1, 1))\n",
    "\n",
    "# Calculate the R-squared value to evaluate the fit of the model\n",
    "r_squared = reg.score(X_test.values.reshape(-1, 1), y_test.values.reshape(-1, 1))\n",
    "\n",
    "print('R^2:', r_squared)"
   ]
  },
  {
   "attachments": {},
   "cell_type": "markdown",
   "metadata": {},
   "source": [
    "*The linear regression analysis shows the relationship between cumulative carbon dioxide (CO2) emissions and global mean sea level rise from 1880 to 2014. The R-squared value of 0.913 indicates that the linear regression model provides a good fit to the relationship between these variables, suggesting a strong correlation between cumulative CO2 emissions and global mean sea level rise.*"
   ]
  },
  {
   "attachments": {},
   "cell_type": "markdown",
   "metadata": {},
   "source": [
    "#### 2. Polynomial Regression Analysis of the Relationship between Cumulative CO2 Emissions and Global Mean Sea Level Rise"
   ]
  },
  {
   "cell_type": "code",
   "execution_count": 48,
   "metadata": {},
   "outputs": [
    {
     "name": "stdout",
     "output_type": "stream",
     "text": [
      "R-squared (testing data) average: 0.9536399589512448\n"
     ]
    }
   ],
   "source": [
    "r2_values = []\n",
    "\n",
    "# Perform polynomial regression 100 times with different random states and calculate R-squared values\n",
    "for i in range(100):\n",
    "    # Split the data into training and testing sets with a test size of 20%\n",
    "    X_train, X_test, y_train, y_test = train_test_split(data['CO2 emissions'], data['Global mean sea level'], test_size=0.2, random_state=i)\n",
    "\n",
    "    # Reshape the training and testing data for polynomial regression\n",
    "    X_train_reshape = X_train.values.reshape(-1, 1)\n",
    "    X_test_reshape = X_test.values.reshape(-1, 1)\n",
    "\n",
    "    # Transform the training and testing data for polynomial regression with a degree of 2\n",
    "    poly = PolynomialFeatures(degree=2)\n",
    "    X_train_poly = poly.fit_transform(X_train_reshape)\n",
    "    X_test_poly = poly.transform(X_test_reshape)\n",
    "\n",
    "    # Fit the polynomial regression model to the training data\n",
    "    reg = LinearRegression().fit(X_train_poly, y_train)\n",
    "\n",
    "    # Predict the sea level rise using the testing data\n",
    "    y_test_pred = reg.predict(X_test_poly)\n",
    "\n",
    "    # Calculate the R-squared value for the testing data\n",
    "    r2_test = reg.score(X_test_poly, y_test)\n",
    "    \n",
    "    # Add the R-squared value to the list\n",
    "    r2_values.append(r2_test)\n",
    "\n",
    "print('R-squared (testing data) average:', np.mean(r2_values))\n"
   ]
  },
  {
   "attachments": {},
   "cell_type": "markdown",
   "metadata": {},
   "source": [
    "*The polynomial regression analysis with a degree of 2 shows the relationship between cumulative carbon dioxide (CO2) emissions and global mean sea level rise from 1880 to 2014. The average R-squared value of 0.953 over 100 iterations indicates that the polynomial regression model provides a good fit to the complex and non-linear relationship between these variables, suggesting a strong correlation between cumulative CO2 emissions and global mean sea level rise. The analysis highlights the importance of considering non-linear relationships in the study of climate change and the need for continued monitoring and analysis of the impact of CO2 emissions on sea level rise.*"
   ]
  },
  {
   "attachments": {},
   "cell_type": "markdown",
   "metadata": {},
   "source": [
    "#### 3. Polynomial Regression Analysis of the Relationship between the Square Root of Cumulative CO2 Emissions and Global Mean Sea Level Rise"
   ]
  },
  {
   "cell_type": "code",
   "execution_count": 49,
   "metadata": {},
   "outputs": [
    {
     "name": "stdout",
     "output_type": "stream",
     "text": [
      "R-squared (testing data) average: 0.982467802018621\n"
     ]
    }
   ],
   "source": [
    "r2_values = []\n",
    "\n",
    "# Perform polynomial regression 100 times with different random states and calculate R-squared values\n",
    "for i in range(100):\n",
    "    # Split the data into training and testing sets with a test size of 20%\n",
    "    X_train, X_test, y_train, y_test = train_test_split(data['CO2 emissions']**(1/2), data['Global mean sea level'], test_size=0.2, random_state=i)\n",
    "\n",
    "    # Reshape the training and testing data for polynomial regression\n",
    "    X_train_reshape = X_train.values.reshape(-1, 1)\n",
    "    X_test_reshape = X_test.values.reshape(-1, 1)\n",
    "\n",
    "    # Transform the training and testing data for polynomial regression with a degree of 1\n",
    "    poly = PolynomialFeatures(degree=1)\n",
    "    X_train_poly = poly.fit_transform(X_train_reshape)\n",
    "    X_test_poly = poly.transform(X_test_reshape)\n",
    "\n",
    "    # Fit the polynomial regression model to the training data\n",
    "    reg = LinearRegression().fit(X_train_poly, y_train)\n",
    "\n",
    "    # Predict the sea level rise using the testing data\n",
    "    y_test_pred = reg.predict(X_test_poly)\n",
    "\n",
    "    # Calculate the R-squared value for the testing data\n",
    "    r2_test = reg.score(X_test_poly, y_test)\n",
    "    \n",
    "    # Add the R-squared value to the list\n",
    "    r2_values.append(r2_test)\n",
    "\n",
    "print('R-squared (testing data) average:', np.mean(r2_values))\n"
   ]
  },
  {
   "attachments": {},
   "cell_type": "markdown",
   "metadata": {},
   "source": [
    "*The polynomial regression analysis with a degree of 1 shows the relationship between the square root of cumulative carbon dioxide (CO2) emissions and global mean sea level rise from 1880 to 2014. The high average R-squared value of 0.982 over 100 iterations indicates that the polynomial regression model provides a good fit to the non-linear relationship between these variables, suggesting a strong correlation between the square root of cumulative CO2 emissions and global mean sea level rise.*"
   ]
  },
  {
   "attachments": {},
   "cell_type": "markdown",
   "metadata": {},
   "source": [
    "#### Scatter Plot with Linear Regression of the Relationship between Square Root of Cumulative CO2 Emissions and Global Mean Sea Level Rise"
   ]
  },
  {
   "cell_type": "code",
   "execution_count": 52,
   "metadata": {},
   "outputs": [
    {
     "name": "stdout",
     "output_type": "stream",
     "text": [
      "[[0.00013811]] [-164.84588256]\n"
     ]
    },
    {
     "data": {
      "text/plain": [
       "Text(0.5, 1.0, 'Relationship between CO2 Emissions and Global Mean Sea Level Rise with Linear Regression Line')"
      ]
     },
     "execution_count": 52,
     "metadata": {},
     "output_type": "execute_result"
    },
    {
     "data": {
      "image/png": "[encoded data removed]",
      "text/plain": [
       "<Figure size 640x480 with 1 Axes>"
      ]
     },
     "metadata": {},
     "output_type": "display_data"
    }
   ],
   "source": [
    "print(reg.coef_, reg.intercept_)\n",
    "\n",
    "# Generate a set of x-values for plotting the linear regression line\n",
    "x_lin = np.linspace(0, 3 * 10 ** 12)\n",
    "\n",
    "# Use the linear regression coefficients to calculate the predicted y-values for the linear regression line\n",
    "y = ((x_lin) ** 0.5 * reg.coef_[0]) + reg.intercept_\n",
    "\n",
    "plt.plot(x_lin, y)\n",
    "\n",
    "plt.scatter(co2_emitted, annual_sea_level[('GMSL', 'mean')], color=\"orange\")\n",
    "plt.ylim(-170, 60)\n",
    "plt.ylabel(\"Global Mean Sea Level (mm)\")\n",
    "plt.xlabel(\"Cumulative CO2 Emissions (million metric tons)\")\n",
    "plt.title(\"Relationship between CO2 Emissions and Global Mean Sea Level Rise with Linear Regression Line\")\n"
   ]
  },
  {
   "attachments": {},
   "cell_type": "markdown",
   "metadata": {},
   "source": [
    "*The scatter plot shows the relationship between cumulative carbon dioxide (CO2) emissions and global mean sea level rise from 1880 to 2014, with a linear regression line superimposed on the plot. The linear regression model includes the square root of cumulative CO2 emissions as a predictor variable and has an R-squared value of 0.98, indicating a strong correlation between the square root of cumulative CO2 emissions and global mean sea level rise. The plot shows an overall upward trend, highlighting the impact of carbon emissions on rising sea levels.*"
   ]
  },
  {
   "attachments": {},
   "cell_type": "markdown",
   "metadata": {},
   "source": [
    "#### Visualization of the Relationship between the Square Root of Cumulative CO2 Emissions and Global Mean Sea Level Rise"
   ]
  },
  {
   "cell_type": "code",
   "execution_count": 53,
   "metadata": {},
   "outputs": [
    {
     "name": "stdout",
     "output_type": "stream",
     "text": [
      "[[0.00013811]] [-164.84588256]\n"
     ]
    },
    {
     "data": {
      "text/plain": [
       "Text(0.5, 0, 'Square Root of Total Co2 Emissions')"
      ]
     },
     "execution_count": 53,
     "metadata": {},
     "output_type": "execute_result"
    },
    {
     "data": {
      "image/png": "[encoded data removed]",
      "text/plain": [
       "<Figure size 800x800 with 1 Axes>"
      ]
     },
     "metadata": {},
     "output_type": "display_data"
    }
   ],
   "source": [
    "fig = plt.figure(figsize=[8,8])\n",
    "print(reg.coef_, reg.intercept_)\n",
    "x_lin = np.linspace(0,1.8 * 10 ** 6)\n",
    "\n",
    "y = ((x_lin) *reg.coef_[0]) + reg.intercept_\n",
    "plt.plot(x_lin,y)\n",
    "\n",
    "\n",
    "plt.scatter(co2_emitted**(1/2),annual_sea_level[('GMSL','mean')], color = \"orange\")\n",
    "plt.ylabel(\"Global Mean Sea Level\")\n",
    "plt.xlabel(\"Square Root of Total Co2 Emissions\")"
   ]
  },
  {
   "attachments": {},
   "cell_type": "markdown",
   "metadata": {},
   "source": [
    "*The scatter plot shows the relationship between the square root of cumulative carbon dioxide (CO2) emissions and global mean sea level rise from 1880 to 2014. The blue line represents the best fit line from the polynomial regression analysis, which shows a strong positive correlation between the square root of cumulative CO2 emissions and global mean sea level rise.*"
   ]
  },
  {
   "cell_type": "code",
   "execution_count": 1,
   "metadata": {},
   "outputs": [],
   "source": [
    "# y_train_pred = reg.predict(X_train.values.reshape(-1,1))\n",
    "# y_test_pred = reg.predict(X_test.values.reshape(-1, 1))\n",
    "\n",
    "# mse_train = np.mean((y_train_pred - y_train.values.reshape(-1, 1))**2)\n",
    "\n",
    "# mse_test = np.mean((y_test_pred - y_test.values.reshape(-1, 1))**2)\n",
    "\n",
    "# print('MSE (training data):', mse_train)\n",
    "# print('MSE (testing data):', mse_test)\n",
    "# #print('Variance (all data):',np.var(co2_emitted))"
   ]
  },
  {
   "cell_type": "code",
   "execution_count": 2,
   "metadata": {},
   "outputs": [],
   "source": [
    "# fit = np.polyfit(np.log(co2_emitted), data['Global mean sea level'],1)"
   ]
  },
  {
   "cell_type": "markdown",
   "metadata": {},
   "source": [
    "#### 2. Scatter plot of annual land temperature and sea level over time"
   ]
  },
  {
   "cell_type": "code",
   "execution_count": 3,
   "metadata": {},
   "outputs": [],
   "source": [
    "# merged_df = pd.merge(annual_land_temp, annual_sea_level, on='year')\n",
    "\n",
    "# plt.scatter(merged_df['LandAverageTemperature'], merged_df[('GMSL', 'mean')])\n",
    "\n",
    "# plt.xlabel('Land Average Temperature (°C)')\n",
    "# plt.ylabel('Global Mean Sea Level (mm)')\n",
    "# plt.title('Annual Land Temperature vs. Global Mean Sea Level (1880-2013)')\n",
    "\n",
    "# plt.show()"
   ]
  },
  {
   "cell_type": "markdown",
   "metadata": {},
   "source": [
    "*The scatter plot shows the relationship between the annual land average temperature and the global mean sea level over time from 1880 to 2013. The x-axis represents the land average temperature in degrees Celsius, while the y-axis represents the global mean sea level in millimeters. Each point on the plot represents a single year's data, with the color indicating the year.*\n",
    "\n",
    "*The plot shows a general upward trend, indicating a positive relationship between land temperature and sea level over time. This suggests that as the average land temperature increases, the global mean sea level tends to rise as well. However, it's important to note that correlation does not necessarily imply causation, and further analysis would be needed to determine the specific causes and mechanisms behind the observed trends.*"
   ]
  },
  {
   "cell_type": "markdown",
   "metadata": {},
   "source": [
    "#### 3. Relationship Between Annual CO2 Emissions and Land Average Temperature (1850-2015)"
   ]
  },
  {
   "cell_type": "code",
   "execution_count": 4,
   "metadata": {},
   "outputs": [],
   "source": [
    "# plt.scatter(years, yearly_emissions, c=annual_land_temp[('LandAverageTemperature', 'mean')], cmap='coolwarm')\n",
    "\n",
    "# plt.xlabel('Year')\n",
    "# plt.ylabel('Annual CO2 Emissions (million metric tons)')\n",
    "# plt.title('Relationship between CO2 Emissions and Land Temperature (1850-2015)')\n",
    "\n",
    "# cbar = plt.colorbar()\n",
    "# cbar.set_label('Land Average Temperature (°C)')\n",
    "\n",
    "# plt.show()\n"
   ]
  },
  {
   "cell_type": "markdown",
   "metadata": {},
   "source": [
    "*Each point on the plot represents a single year's data, with the x-axis representing the year and the y-axis representing the annual CO2 emissions in million metric tons. The color of each point indicates the land average temperature in degrees Celsius, with warmer temperatures shown in red and cooler temperatures shown in blue. The plot can help to visualize the correlation between these two variables and provide insights into the impact of carbon emissions on global warming.*"
   ]
  },
  {
   "cell_type": "markdown",
   "metadata": {},
   "source": [
    "### Comparative analysis"
   ]
  },
  {
   "cell_type": "code",
   "execution_count": 5,
   "metadata": {},
   "outputs": [],
   "source": [
    "# years = [i for i in range(1880, 2014)]\n",
    "\n",
    "# yearly_emissions = []\n",
    "# for year in years:\n",
    "#     temp = co2_emission.where(co2_emission[\"Year\"] == year)\n",
    "#     temp = temp.dropna()\n",
    "#     yearly_emissions.append(sum(temp.iloc[:, -1]))\n",
    "\n",
    "# plt.scatter(yearly_emissions, annual_sea_level[('GMSL', 'mean')], c=annual_sea_level[('GMSL', 'mean')], cmap='coolwarm')\n",
    "# plt.xlabel('Annual CO2 Emissions (million metric tons)')\n",
    "# plt.ylabel('Global Mean Sea Level (mm)')\n",
    "# plt.title('CO2 Emissions vs. Sea Level Rise')\n",
    "\n",
    "# cbar = plt.colorbar()\n",
    "# cbar.set_label('Sea Level (mm)')\n",
    "\n",
    "# plt.show()\n"
   ]
  },
  {
   "cell_type": "code",
   "execution_count": 6,
   "metadata": {},
   "outputs": [],
   "source": [
    "# corr = np.corrcoef(yearly_emissions[30:164], annual_sea_level[('GMSL', 'mean')])[0, 1]\n",
    "# print(f\"Correlation between CO2 emissions and global mean sea level: {corr:.2f}\")\n",
    "# sqrt_yearly = [i**(1/2) for i in yearly_emissions[30:164]]\n",
    "# corr = np.corrcoef(sqrt_yearly, annual_sea_level[('GMSL', 'mean')])[0, 1]\n",
    "# print(f\"Correlation between the square root of CO2 emissions and global mean sea level: {corr:.2f}\")\n",
    "# corr = np.corrcoef(co2_emitted, annual_sea_level[('GMSL', 'mean')])[0, 1]\n",
    "# print(f\"Correlation between total CO2 emissions and global mean sea level: {corr:.2f}\")\n",
    "# corr = np.corrcoef(co2_emitted**(1/2), annual_sea_level[('GMSL', 'mean')])[0, 1]\n",
    "# print(f\"Correlation between the square root of total CO2 emissions and global mean sea level: {corr:.2f}\")"
   ]
  },
  {
   "cell_type": "markdown",
   "metadata": {},
   "source": [
    "*A correlation coefficient of 0.96 suggests a very strong positive correlation between CO2 emissions and global mean sea level. This means that as CO2 emissions increase, the global mean sea level tends to rise as well. However, correlation does not necessarily imply causation, and there may be other factors that are contributing to sea level rise in addition to CO2 emissions. Nonetheless, this correlation coefficient suggests that reducing CO2 emissions could have a significant impact on mitigating future sea level rise.*"
   ]
  },
  {
   "cell_type": "code",
   "execution_count": 7,
   "metadata": {},
   "outputs": [],
   "source": [
    "# # Calculate z-scores for yearly emissions and GMSL\n",
    "# zscore_emissions = np.abs((yearly_emissions - np.mean(yearly_emissions)) / np.std(yearly_emissions))\n",
    "# zscore_sea_level = np.abs((annual_sea_level[('GMSL', 'mean')] - np.mean(annual_sea_level[('GMSL', 'mean')])) / np.std(annual_sea_level[('GMSL', 'mean')]))\n",
    "\n",
    "# # Identify any data points with a z-score greater than 3\n",
    "# outlier_indices = np.where(np.logical_or(zscore_emissions > 3, zscore_sea_level > 3))[0]\n",
    "# outlier_emissions = [yearly_emissions[i] for i in outlier_indices]\n",
    "# outlier_sea_level = [annual_sea_level[('GMSL', 'mean')][i] for i in outlier_indices]\n",
    "\n",
    "# if len(outlier_indices) > 0:\n",
    "#     print(\"The following data points are outliers:\")\n",
    "#     for i in range(len(outlier_indices)):\n",
    "#         print(f\"Index: {outlier_indices[i]}, CO2 emissions: {outlier_emissions[i]}, GMSL: {outlier_sea_level[i]}\")\n",
    "# else:\n",
    "#     print(\"No outliers were identified.\")\n"
   ]
  },
  {
   "cell_type": "markdown",
   "metadata": {},
   "source": [
    "*It looks like there were no outliers identified in the scatter plot. This suggests that the data points are generally clustered closely together without any extreme or unusual values. However, it's worth noting that the absence of outliers doesn't necessarily mean that there aren't any interesting or unusual patterns in the data, so it may still be valuable to explore the relationships between CO2 emissions and sea level rise further.*"
   ]
  },
  {
   "cell_type": "code",
   "execution_count": 8,
   "metadata": {},
   "outputs": [],
   "source": [
    "# # Heat map\n",
    "\n",
    "# data = pd.DataFrame({'CO2 emissions': yearly_emissions, 'Year': years, 'Global mean sea level': annual_sea_level[('GMSL', 'mean')]})\n",
    "\n",
    "# pivot_data = data.pivot('Year', 'CO2 emissions', 'Global mean sea level')\n",
    "\n",
    "# sns.heatmap(pivot_data, cmap='coolwarm')\n",
    "# plt.xlabel('CO2 emissions (million metric tons)')\n",
    "# plt.ylabel('Year')\n",
    "# plt.title('Global mean sea level vs. CO2 emissions')\n",
    "# plt.show()\n"
   ]
  },
  {
   "cell_type": "markdown",
   "metadata": {},
   "source": [
    "### Advanced statistical analysis  and Machine Learning"
   ]
  },
  {
   "cell_type": "code",
   "execution_count": 9,
   "metadata": {},
   "outputs": [],
   "source": [
    "\n",
    "# data = pd.DataFrame({'CO2 emissions': yearly_emissions[30:164], 'Global mean sea level': annual_sea_level[('GMSL', 'mean')]})\n",
    "\n",
    "# X_train, X_test, y_train, y_test = train_test_split(data['CO2 emissions'], data['Global mean sea level'], test_size=0.3, random_state=0)\n",
    "\n",
    "# reg = LinearRegression()\n",
    "\n",
    "# reg.fit(X_train.values.reshape(-1, 1), y_train.values.reshape(-1, 1))\n",
    "\n",
    "# y_pred = reg.predict(X_test.values.reshape(-1, 1))\n",
    "\n",
    "# r_squared = reg.score(X_test.values.reshape(-1, 1), y_test.values.reshape(-1, 1))\n",
    "\n",
    "# print('R^2:', r_squared)\n"
   ]
  },
  {
   "cell_type": "markdown",
   "metadata": {},
   "source": [
    "*R-squared value of 0.93 suggests that the linear regression model provides a good fit to the data, indicating a strong relationship between CO2 emissions and sea level. We can interpret the R-squared value as the proportion of the variance in the dependent variable (sea level) that is explained by the independent variable (CO2 emissions).*"
   ]
  },
  {
   "cell_type": "code",
   "execution_count": 10,
   "metadata": {},
   "outputs": [],
   "source": [
    "# y_train_pred = reg.predict(X_train.values.reshape(-1, 1))\n",
    "\n",
    "# y_test_pred = reg.predict(X_test.values.reshape(-1, 1))\n",
    "\n",
    "# mse_train = np.mean((y_train_pred - y_train.values.reshape(-1, 1))**2)\n",
    "\n",
    "# mse_test = np.mean((y_test_pred - y_test.values.reshape(-1, 1))**2)\n",
    "\n",
    "# print('MSE (training data):', mse_train)\n",
    "# print('MSE (testing data):', mse_test)\n"
   ]
  },
  {
   "cell_type": "markdown",
   "metadata": {},
   "source": [
    "*The MSE values for the training and testing data are relatively close to each other, which suggests that the model is not overfitting to the training data and is able to generalize well to new data.*"
   ]
  },
  {
   "cell_type": "code",
   "execution_count": 11,
   "metadata": {},
   "outputs": [],
   "source": [
    "# # Polynomial regression model\n",
    "# data = pd.DataFrame({'CO2 emissions': yearly_emissions, 'Global mean sea level': annual_sea_level[('GMSL', 'mean')]})\n",
    "\n",
    "# X_train, X_test, y_train, y_test = train_test_split(data['CO2 emissions'], data['Global mean sea level'], test_size=0.2, random_state=42)\n",
    "\n",
    "# X_train_reshape = X_train.values.reshape(-1, 1)\n",
    "# X_test_reshape = X_test.values.reshape(-1, 1)\n",
    "\n",
    "# poly = PolynomialFeatures(degree=2)\n",
    "# X_train_poly = poly.fit_transform(X_train_reshape)\n",
    "# X_test_poly = poly.transform(X_test_reshape)\n",
    "# reg = LinearRegression().fit(X_train_poly, y_train)\n",
    "\n",
    "# y_test_pred = reg.predict(X_test_poly)\n",
    "\n",
    "# r2_test = reg.score(X_test_poly, y_test)\n",
    "\n",
    "# print('R-squared (testing data):', r2_test)\n"
   ]
  },
  {
   "cell_type": "markdown",
   "metadata": {},
   "source": [
    "*The R-squared value for the testing data is quite high, which suggests that the polynomial regression model is able to capture the nonlinear relationship between CO2 emissions and sea level more accurately than a simple linear regression model.*"
   ]
  },
  {
   "cell_type": "code",
   "execution_count": 12,
   "metadata": {},
   "outputs": [],
   "source": [
    "\n",
    "# data = pd.DataFrame({'CO2 emissions': yearly_emissions, 'Global mean sea level': annual_sea_level[('GMSL', 'mean')]})\n",
    "\n",
    "# kmeans = KMeans(n_clusters=3, random_state=42).fit(data)\n",
    "\n",
    "# data['Cluster'] = kmeans.labels_\n",
    "\n",
    "# plt.scatter(data['CO2 emissions'], data['Global mean sea level'], c=data['Cluster'])\n",
    "# plt.xlabel('CO2 emissions')\n",
    "# plt.ylabel('Global mean sea level')\n",
    "# plt.show()\n"
   ]
  },
  {
   "cell_type": "markdown",
   "metadata": {},
   "source": [
    "*The upward trend in the red dots on the left and the connection to the black dots on the right could suggest a relationship between high CO2 emissions and sea level, as well as a potential threshold effect where the impact of CO2 emissions on sea level becomes more pronounced beyond a certain threshold.*"
   ]
  },
  {
   "cell_type": "markdown",
   "metadata": {},
   "source": [
    "## Results (Policy recommendations)"
   ]
  },
  {
   "attachments": {},
   "cell_type": "markdown",
   "metadata": {},
   "source": [
    "*Our project examined the relationship between carbon emissions and climate change, with a focus on analyzing the historical trends of carbon emissions and their impacts on various climate variables, such as temperature, sea level, and ocean acidity. We used various statistical and machine learning techniques, including linear regression, polynomial regression to analyze the data and draw conclusions about the impact of carbon emissions on climate change.*\n",
    "\n",
    "*Our analysis revealed several important findings. Firstly, we found that carbon emissions have been increasing at an accelerating rate over time, with an exponential upward trend in global carbon emissions. This trend is concerning, as carbon emissions are a major contributor to climate change, which has significant impacts on the environment and human society.*\n",
    "\n",
    "*Secondly, we found a strong correlation between cumulative carbon emissions and global mean sea level rise, with both linear and polynomial regression models providing a good fit to the data. Our analysis highlights the urgent need for action to reduce carbon emissions and mitigate the impacts of climate change on sea level rise.*\n",
    "\n",
    "*Finally, we found that the relationship between the square root of cumulative carbon emissions and global mean sea level rise is even stronger, with a higher R-squared value compared to the linear and polynomial regression models using cumulative carbon emissions as the predictor variable. This finding suggests that reducing carbon emissions at an earlier stage may have a more significant impact on mitigating sea level rise.*\n",
    "\n",
    "*Based on these findings, we recommend several policy interventions to address climate change. Firstly, governments should implement policies to reduce carbon emissions, such as carbon taxes or cap-and-trade systems, to incentivize industries and individuals to reduce their carbon footprints. Secondly, governments should invest in renewable energy sources, such as solar and wind power, to reduce reliance on fossil fuels and promote sustainable energy production. Thirdly, governments should invest in research and development of new technologies to reduce carbon emissions and mitigate the impacts of climate change.*"
   ]
  }
 ],
 "metadata": {
  "kernelspec": {
   "display_name": "Python 3 (ipykernel)",
   "language": "python",
   "name": "python3"
  },
  "language_info": {
   "codemirror_mode": {
    "name": "ipython",
    "version": 3
   },
   "file_extension": ".py",
   "mimetype": "text/x-python",
   "name": "python",
   "nbconvert_exporter": "python",
   "pygments_lexer": "ipython3",
   "version": "3.9.16"
  },
  "vscode": {
   "interpreter": {
    "hash": "22c32a88c272cd0ffba3bfc0d2cd36a98661463b0f5e7c7ff81dbd09588944d8"
   }
  }
 },
 "nbformat": 4,
 "nbformat_minor": 2
}
