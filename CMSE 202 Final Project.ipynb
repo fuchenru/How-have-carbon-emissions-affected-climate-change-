{
 "cells": [
  {
   "attachments": {},
   "cell_type": "markdown",
   "metadata": {},
   "source": [
    "# <center>CMSE 202 Final Project</center>"
   ]
  },
  {
   "attachments": {},
   "cell_type": "markdown",
   "metadata": {},
   "source": [
    "# ___How have carbon emissions affected climate change?___"
   ]
  },
  {
   "cell_type": "markdown",
   "metadata": {},
   "source": [
    "## Background and Motivation"
   ]
  },
  {
   "attachments": {},
   "cell_type": "markdown",
   "metadata": {},
   "source": [
    "_This project is the final project for the CMSE 202 course. The goal of this project is to investigate the relationship between carbon emissions and climate change. Our group members for this project are Riley Millikan and Mike Liu._\n",
    "\n",
    "_Project Overview Carbon emissions are one of the main contributors to climate change. As such, it is important to understand the relationship between the two. In this project, we will explore various aspects of carbon emissions and climate change, such as the relationship between carbon emissions and rising temperatures, the impact of carbon emissions on extreme weather events, and the role of carbon emissions in sea level rise._\n",
    "\n",
    "_Data Sources We will be using various sources of data to investigate the impact of carbon emissions on climate change. Some of the data sources we plan to use include:_\n",
    "\n",
    "- NOAA's Global Climate Dashboard (https://www.climate.gov/maps-data)\n",
    "- NASA's Global Climate Change (https://climate.nasa.gov/vital-signs/carbon-dioxide/)\n",
    "- IPCC reports (https://www.ipcc.ch/reports/)\n",
    "- World Bank (https://data.worldbank.org/indicator/EN.ATM.CO2E.PC)\n",
    "\n",
    "_Our goals for this project include:_\n",
    "\n",
    "_Analyzing historical trends in carbon emissions and climate change Examining the relationship between carbon emissions and various climate variables, such as temperature, extreme weather events, sea level, and ocean acidity Creating visualizations to illustrate our findings Drawing conclusions about the impact of carbon emissions on climate change_"
   ]
  },
  {
   "cell_type": "markdown",
   "metadata": {},
   "source": [
    "## Methodology"
   ]
  },
  {
   "attachments": {},
   "cell_type": "markdown",
   "metadata": {},
   "source": [
    "### This research is carried out from the following aspects.\n",
    "\n",
    "_1._\n"
   ]
  },
  {
   "cell_type": "code",
   "execution_count": 1,
   "metadata": {},
   "outputs": [],
   "source": [
    "import numpy as np\n",
    "import pandas as pd\n",
    "import math\n",
    "import matplotlib.pyplot as plt\n",
    "import seaborn as sns\n",
    "%matplotlib inli## Resultsne"
   ]
  },
  {
   "cell_type": "markdown",
   "metadata": {},
   "source": [
    "## Results"
   ]
  },
  {
   "cell_type": "markdown",
   "metadata": {},
   "source": [
    "### References"
   ]
  }
 ],
 "metadata": {
  "kernelspec": {
   "display_name": "base",
   "language": "python",
   "name": "python3"
  },
  "language_info": {
   "codemirror_mode": {
    "name": "ipython",
    "version": 3
   },
   "file_extension": ".py",
   "mimetype": "text/x-python",
   "name": "python",
   "nbconvert_exporter": "python",
   "pygments_lexer": "ipython3",
   "version": "3.9.13"
  },
  "orig_nbformat": 4,
  "vscode": {
   "interpreter": {
    "hash": "22c32a88c272cd0ffba3bfc0d2cd36a98661463b0f5e7c7ff81dbd09588944d8"
   }
  }
 },
 "nbformat": 4,
 "nbformat_minor": 2
}
